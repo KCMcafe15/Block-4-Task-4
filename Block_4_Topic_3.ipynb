{
  "nbformat": 4,
  "nbformat_minor": 0,
  "metadata": {
    "colab": {
      "provenance": [],
      "include_colab_link": true
    },
    "kernelspec": {
      "name": "python3",
      "display_name": "Python 3"
    },
    "language_info": {
      "name": "python"
    }
  },
  "cells": [
    {
      "cell_type": "markdown",
      "metadata": {
        "id": "view-in-github",
        "colab_type": "text"
      },
      "source": [
        "<a href=\"https://colab.research.google.com/github/KCMcafe15/Block-4-Task-4/blob/main/Block_4_Topic_3.ipynb\" target=\"_parent\"><img src=\"https://colab.research.google.com/assets/colab-badge.svg\" alt=\"Open In Colab\"/></a>"
      ]
    },
    {
      "cell_type": "markdown",
      "source": [
        "NumPy (Numeric Python) Library\n",
        "\n",
        "NumPy is a Python library used for working with arrays. It also has functions for working in the domain of linear algebra, fourier transform, and matrices."
      ],
      "metadata": {
        "id": "-fcPsJSBUhbf"
      }
    },
    {
      "cell_type": "code",
      "source": [
        "# importing numpy\n",
        "\n",
        "import numpy as np"
      ],
      "metadata": {
        "id": "Un7ZWjC4Vwn3"
      },
      "execution_count": null,
      "outputs": []
    },
    {
      "cell_type": "markdown",
      "source": [
        "Importing Package Index"
      ],
      "metadata": {
        "id": "P8cn4EEtC5SV"
      }
    },
    {
      "cell_type": "code",
      "source": [
        "# importing an entire module\n",
        "\n",
        "import math\n",
        "print(math.sqrt(16))\n",
        "\n",
        "# This code does two things:\n",
        "# import math: This line imports the math module, which provides mathematical functions defined by the C standard. By importing math, you’re able to use these functions in your code.\n",
        "#print(math.sqrt(16)): This line uses the sqrt function from the math module to calculate the square root of 16.\n",
        "# The sqrt function returns the square root of the number you pass to it. In this case, the square root of 16 is 4.\n",
        "# The print function then outputs this result (4) to the console.\n",
        "#So, when you run this code, it will print out ‘4’ because that’s the square root of 16."
      ],
      "metadata": {
        "id": "y1QvUfcKCvbk",
        "colab": {
          "base_uri": "https://localhost:8080/"
        },
        "outputId": "5ec36edb-69c9-463e-8243-b70b649855aa"
      },
      "execution_count": null,
      "outputs": [
        {
          "output_type": "stream",
          "name": "stdout",
          "text": [
            "4.0\n"
          ]
        }
      ]
    },
    {
      "cell_type": "code",
      "source": [
        "# import a specific function or class from a module\n",
        "\n",
        "from math import sqrt\n",
        "print(sqrt(16))"
      ],
      "metadata": {
        "id": "rbGyANwIDJYS",
        "colab": {
          "base_uri": "https://localhost:8080/"
        },
        "outputId": "a136ae8f-f4dc-4756-b5a3-549622dc18e9"
      },
      "execution_count": null,
      "outputs": [
        {
          "output_type": "stream",
          "name": "stdout",
          "text": [
            "4.0\n"
          ]
        }
      ]
    },
    {
      "cell_type": "code",
      "source": [
        "# import entire module with an alias\n",
        "\n",
        "import math as m\n",
        "print(m.sqrt(16))"
      ],
      "metadata": {
        "id": "Y1wRDq2cDwzb",
        "colab": {
          "base_uri": "https://localhost:8080/"
        },
        "outputId": "45758e1c-0624-4f60-cb91-94a90cb36016"
      },
      "execution_count": null,
      "outputs": [
        {
          "output_type": "stream",
          "name": "stdout",
          "text": [
            "4.0\n"
          ]
        }
      ]
    },
    {
      "cell_type": "markdown",
      "source": [
        "Arrays\n",
        "\n",
        "An array is a special variable, which can hold more than one value at a time."
      ],
      "metadata": {
        "id": "pPkAC33jWG5y"
      }
    },
    {
      "cell_type": "code",
      "source": [
        "# creating arrays\n",
        "\n",
        "topics = [\"Google Sheets\", \"SQL\", \"Tableau\", \"Python\"]\n",
        "print (topics)"
      ],
      "metadata": {
        "colab": {
          "base_uri": "https://localhost:8080/"
        },
        "id": "SNukV5AZ9Zhn",
        "outputId": "8114d952-2ce1-4aac-8a0b-26a7b4ed85f4"
      },
      "execution_count": null,
      "outputs": [
        {
          "output_type": "stream",
          "name": "stdout",
          "text": [
            "['Google Sheets', 'SQL', 'Tableau', 'Python']\n"
          ]
        }
      ]
    },
    {
      "cell_type": "markdown",
      "source": [
        "Array Methods:\n",
        "\n",
        "Python has a set of built-in methods that you can use on lists/arrays.\n",
        "\n",
        "append() -Adds an element at the end of the list\n",
        "\n",
        "clear()\t-Removes all the elements from the list\n",
        "\n",
        "copy()\t-Returns a copy of the list\n",
        "\n",
        "count()\t-Returns the number of elements with the specified value\n",
        "\n",
        "extend()\t-Add the elements of a list (or any iterable), to the end of the current list\n",
        "\n",
        "index()\t-Returns the index of the first element with the specified value\n",
        "\n",
        "insert()\t-Adds an element at the specified position\n",
        "\n",
        "pop()\t-Removes the element at the specified position\n",
        "\n",
        "remove()\t-Removes the first item with the specified value\n",
        "\n",
        "reverse()\t-Reverses the order of the list\n",
        "\n",
        "sort()\t-Sorts the list"
      ],
      "metadata": {
        "id": "ZEbMIAE9_hSk"
      }
    },
    {
      "cell_type": "code",
      "source": [
        "# creating numpy array with data type\n",
        "\n",
        "import numpy as np\n",
        "\n",
        "a = np.array([1, 2, 3, 4, 5], dtype=float)\n",
        "\n",
        "print(a)"
      ],
      "metadata": {
        "colab": {
          "base_uri": "https://localhost:8080/"
        },
        "id": "AMngVVE4_k8A",
        "outputId": "fd5e798f-c886-4e95-b570-d5449d5de61a"
      },
      "execution_count": null,
      "outputs": [
        {
          "output_type": "stream",
          "name": "stdout",
          "text": [
            "[1. 2. 3. 4. 5.]\n"
          ]
        }
      ]
    },
    {
      "cell_type": "code",
      "source": [
        "# creating matrix with numpy\n",
        "# using data type\n",
        "\n",
        "m = np.array([[1, 2, 3], [4, 5, 6]], dtype=int)\n",
        "\n",
        "print(m)"
      ],
      "metadata": {
        "colab": {
          "base_uri": "https://localhost:8080/"
        },
        "id": "xpqogG0ZE7Pr",
        "outputId": "f477bbab-4280-4b9a-a0b2-44b822b61731"
      },
      "execution_count": null,
      "outputs": [
        {
          "output_type": "stream",
          "name": "stdout",
          "text": [
            "[[1 2 3]\n",
            " [4 5 6]]\n"
          ]
        }
      ]
    },
    {
      "cell_type": "code",
      "source": [
        "# creating a vector or matrix using the \"ones\" method\n",
        "\n",
        "import numpy as np\n",
        "\n",
        "a = np.ones((5,), dtype=float)\n",
        "print(a)\n",
        "\n",
        "m = np.ones((2, 3), dtype=int)\n",
        "print(m)"
      ],
      "metadata": {
        "colab": {
          "base_uri": "https://localhost:8080/"
        },
        "id": "q-xaPNMfJUIN",
        "outputId": "f1fecbb5-f235-4ba5-dafc-56f5d65e7c76"
      },
      "execution_count": null,
      "outputs": [
        {
          "output_type": "stream",
          "name": "stdout",
          "text": [
            "[1. 1. 1. 1. 1.]\n",
            "[[1 1 1]\n",
            " [1 1 1]]\n"
          ]
        }
      ]
    },
    {
      "cell_type": "code",
      "source": [
        "# creating a vector or matrix using the \"zeros\" method\n",
        "\n",
        "import numpy as np\n",
        "\n",
        "a = np.zeros(5, dtype=float)\n",
        "print(a)\n",
        "\n",
        "m = np.zeros((2, 3), dtype=int)\n",
        "print(m)"
      ],
      "metadata": {
        "colab": {
          "base_uri": "https://localhost:8080/"
        },
        "id": "JmuE09ARJh9q",
        "outputId": "e11f87be-3c54-4c82-8e96-b620d410bd9e"
      },
      "execution_count": null,
      "outputs": [
        {
          "output_type": "stream",
          "name": "stdout",
          "text": [
            "[0. 0. 0. 0. 0.]\n",
            "[[0 0 0]\n",
            " [0 0 0]]\n"
          ]
        }
      ]
    },
    {
      "cell_type": "code",
      "source": [
        "# dimension using shape\n",
        "\n",
        "import numpy as np\n",
        "\n",
        "a = np.array([1, 2, 3, 4, 5], dtype=float)\n",
        "print(a.shape)\n",
        "\n",
        "m = np.array([[1, 2, 3], [4, 5, 6]], dtype=int)\n",
        "print(m.shape)"
      ],
      "metadata": {
        "colab": {
          "base_uri": "https://localhost:8080/"
        },
        "id": "plkfiM7YFfHw",
        "outputId": "e7e0f758-bad0-4d34-add6-bdcf4ec45ed7"
      },
      "execution_count": null,
      "outputs": [
        {
          "output_type": "stream",
          "name": "stdout",
          "text": [
            "(5,)\n",
            "(2, 3)\n"
          ]
        }
      ]
    },
    {
      "cell_type": "code",
      "source": [
        "# dimension using size\n",
        "\n",
        "import numpy as np\n",
        "\n",
        "a = np.array([1, 2, 3, 4, 5], dtype=float)\n",
        "print(a.size)\n",
        "\n",
        "m = np.array([[1, 2, 3], [4, 5, 6]], dtype=int)\n",
        "print(m.size)"
      ],
      "metadata": {
        "colab": {
          "base_uri": "https://localhost:8080/"
        },
        "id": "ywmRfPU_IN4H",
        "outputId": "f6366b46-190b-4c08-b1c4-15a85cd09fb7"
      },
      "execution_count": null,
      "outputs": [
        {
          "output_type": "stream",
          "name": "stdout",
          "text": [
            "5\n",
            "6\n"
          ]
        }
      ]
    },
    {
      "cell_type": "code",
      "source": [
        "# indexing vector\n",
        "\n",
        "import numpy as np\n",
        "\n",
        "a = np.array([1, 2, 3, 4, 5])\n",
        "print(a[0])\n",
        "print(a[1:])\n",
        "print(a[:2])"
      ],
      "metadata": {
        "colab": {
          "base_uri": "https://localhost:8080/"
        },
        "id": "h__9s1n2J8vR",
        "outputId": "08ee0127-8016-45c3-b2bd-bcbd6f7f8ac9"
      },
      "execution_count": null,
      "outputs": [
        {
          "output_type": "stream",
          "name": "stdout",
          "text": [
            "1\n",
            "[2 3 4 5]\n",
            "[1 2]\n"
          ]
        }
      ]
    },
    {
      "cell_type": "code",
      "source": [
        "# indexing matrix\n",
        "\n",
        "import numpy as np\n",
        "\n",
        "a = np.array([[1, 2, 3], [4, 5, 6], [7, 8, 9]])\n",
        "print(a[1, 1])\n",
        "print(a[1:, 1])\n",
        "print(a[0, :2])"
      ],
      "metadata": {
        "colab": {
          "base_uri": "https://localhost:8080/"
        },
        "id": "P_ZcMOQCKI_V",
        "outputId": "2cc721ae-6541-41b1-9753-33aeed8f6b76"
      },
      "execution_count": null,
      "outputs": [
        {
          "output_type": "stream",
          "name": "stdout",
          "text": [
            "5\n",
            "[5 8]\n",
            "[4 5]\n"
          ]
        }
      ]
    },
    {
      "cell_type": "code",
      "source": [
        "# arithmetic operations in vector\n",
        "\n",
        "import numpy as np\n",
        "\n",
        "a = np.array([1, 2, 3])\n",
        "b = np.array([4, 5, 6])\n",
        "print(a + b)\n",
        "print(a - b)\n",
        "print(a * b)\n",
        "print(a / b)"
      ],
      "metadata": {
        "id": "xiYpRxQTMv2t"
      },
      "execution_count": null,
      "outputs": []
    },
    {
      "cell_type": "code",
      "source": [
        "# arithmetic operations in matrix\n",
        "\n",
        "import numpy as np\n",
        "\n",
        "a = np.array([[1, 2, 3], [4, 5, 6], [7, 8, 9]])\n",
        "b = np.array([[2, 2, 2], [3, 3, 3], [4, 4, 4]])\n",
        "print(a + b)\n",
        "print(a - b)\n",
        "print(a * b)\n",
        "print(a / b)"
      ],
      "metadata": {
        "id": "uSz0aqLJM5ll"
      },
      "execution_count": null,
      "outputs": []
    },
    {
      "cell_type": "code",
      "source": [
        "# aggregation in vectors\n",
        "\n",
        "import numpy as np\n",
        "\n",
        "a = np.array([1, 2, 3, 4, 5])\n",
        "print(a.min())\n",
        "print(a.max())\n",
        "print(a.sum())\n",
        "print(a.mean())\n",
        "print(a.prod())"
      ],
      "metadata": {
        "id": "6W0D268yNfOS"
      },
      "execution_count": null,
      "outputs": []
    },
    {
      "cell_type": "code",
      "source": [
        "# aggregation in matrix\n",
        "\n",
        "import numpy as np\n",
        "\n",
        "a = np.array([[1, 2, 3], [4, 5, 6], [7, 8, 9]])\n",
        "print(a.min())\n",
        "print(a.max())\n",
        "print(a.sum())\n",
        "print(a.mean())\n",
        "print(a.prod())"
      ],
      "metadata": {
        "id": "Hkg5aVYvNoTQ"
      },
      "execution_count": null,
      "outputs": []
    },
    {
      "cell_type": "markdown",
      "source": [
        "PANDAS"
      ],
      "metadata": {
        "id": "QfczvYuVN4Eq"
      }
    },
    {
      "cell_type": "code",
      "source": [
        "# creating series (vector)\n",
        "\n",
        "import pandas as pd\n",
        "\n",
        "mountains_height = pd.Series([2061, 2035.8, 2028.5, 2022.5, 2016.4])\n",
        "\n",
        "print(mountains_height)"
      ],
      "metadata": {
        "colab": {
          "base_uri": "https://localhost:8080/"
        },
        "id": "sJHSpfWfN536",
        "outputId": "7a292df6-00e1-4505-9f58-a505f7b1f8b7"
      },
      "execution_count": null,
      "outputs": [
        {
          "output_type": "stream",
          "name": "stdout",
          "text": [
            "0    2061.0\n",
            "1    2035.8\n",
            "2    2028.5\n",
            "3    2022.5\n",
            "4    2016.4\n",
            "dtype: float64\n"
          ]
        }
      ]
    },
    {
      "cell_type": "code",
      "source": [
        "# creating series matrix\n",
        "\n",
        "import pandas as pd\n",
        "\n",
        "mountains_height = pd.Series(\n",
        "    data=[2061, 2035.8, 2028.5, 2022.5, 2016.4],\n",
        "    index=[\"Goverla\", \"Brebenskyl\", \"Pip_Ivan\", \"Petros\", \"Gutin_Tomnatik\"],\n",
        "    name=\"Height, m\",\n",
        "    dtype=float,\n",
        ")\n",
        "\n",
        "print(mountains_height)"
      ],
      "metadata": {
        "colab": {
          "base_uri": "https://localhost:8080/"
        },
        "id": "GQg_dsuqOZDq",
        "outputId": "835657f1-9424-4633-ba4c-a43a7e88dcd3"
      },
      "execution_count": null,
      "outputs": [
        {
          "output_type": "stream",
          "name": "stdout",
          "text": [
            "Goverla           2061.0\n",
            "Brebenskyl        2035.8\n",
            "Pip_Ivan          2028.5\n",
            "Petros            2022.5\n",
            "Gutin_Tomnatik    2016.4\n",
            "Name: Height, m, dtype: float64\n"
          ]
        }
      ]
    },
    {
      "cell_type": "markdown",
      "source": [
        "Indexing Series"
      ],
      "metadata": {
        "id": "_lpo-UJ3O2o3"
      }
    },
    {
      "cell_type": "code",
      "source": [
        "mountains_height = pd.Series(\n",
        "    data=[2061, 2035.8, 2028.5, 2022.5, 2016.4],\n",
        "    index=[\"Goverla\", \"Brebenskyl\", \"Pip_Ivan\", \"Petros\", \"Gutin_Tomnatik\"],\n",
        "    name=\"Height, m\",\n",
        "    dtype=float,\n",
        ")\n",
        "\n",
        "print(mountains_height[0])\n",
        "print(mountains_height[\"Goverla\"])"
      ],
      "metadata": {
        "colab": {
          "base_uri": "https://localhost:8080/"
        },
        "id": "soB75xZ4PVMz",
        "outputId": "d58b62e6-8ddf-41b8-afc1-8488f75cc524"
      },
      "execution_count": null,
      "outputs": [
        {
          "output_type": "stream",
          "name": "stdout",
          "text": [
            "2061.0\n",
            "2061.0\n"
          ]
        }
      ]
    },
    {
      "cell_type": "code",
      "source": [
        "mountains_height = pd.Series(\n",
        "    data=[2061, 2035.8, 2028.5, 2022.5, 2016.4],\n",
        "    index=[\"Goverla\", \"Brebenskyl\", \"Pip_Ivan\", \"Petros\", \"Gutin_Tomnatik\"],\n",
        "    name=\"Height, m\",\n",
        "    dtype=float,\n",
        ")\n",
        "\n",
        "print(mountains_height[[\"Pip_Ivan\", \"Goverla\", \"Gutin_Tomnatik\"]])"
      ],
      "metadata": {
        "colab": {
          "base_uri": "https://localhost:8080/"
        },
        "id": "aPcy7RLZPdUI",
        "outputId": "939dc809-4b0f-4c8f-d147-7ccc5d3eb4c4"
      },
      "execution_count": null,
      "outputs": [
        {
          "output_type": "stream",
          "name": "stdout",
          "text": [
            "Pip_Ivan          2028.5\n",
            "Goverla           2061.0\n",
            "Gutin_Tomnatik    2016.4\n",
            "Name: Height, m, dtype: float64\n"
          ]
        }
      ]
    },
    {
      "cell_type": "code",
      "source": [
        "# Comparison and filtering operations of the Series object using logical operations create a new Series object\n",
        "\n",
        "mountains_height = pd.Series(\n",
        "    data=[2061, 2035.8, 2028.5, 2022.5, 2016.4],\n",
        "    index=[\"Goverla\", \"Brebenskyl\", \"Pip_Ivan\", \"Petros\", \"Gutin_Tomnatik\"],\n",
        "    name=\"Height, m\",\n",
        "    dtype=float,\n",
        ")\n",
        "\n",
        "print(mountains_height > 2030)\n",
        "print(mountains_height[mountains_height > 2030])"
      ],
      "metadata": {
        "colab": {
          "base_uri": "https://localhost:8080/"
        },
        "id": "DAYly6jYPy2g",
        "outputId": "dd35e39c-1a3e-48dd-f6e8-8eaf3c84c81e"
      },
      "execution_count": null,
      "outputs": [
        {
          "output_type": "stream",
          "name": "stdout",
          "text": [
            "Goverla            True\n",
            "Brebenskyl         True\n",
            "Pip_Ivan          False\n",
            "Petros            False\n",
            "Gutin_Tomnatik    False\n",
            "Name: Height, m, dtype: bool\n",
            "Goverla       2061.0\n",
            "Brebenskyl    2035.8\n",
            "Name: Height, m, dtype: float64\n"
          ]
        }
      ]
    },
    {
      "cell_type": "code",
      "source": [
        "# sort index\n",
        "\n",
        "mountains_height = pd.Series(\n",
        "    data=[2061, 2035.8, 2028.5, 2022.5, 2016.4],\n",
        "    index=[\"Goverla\", \"Brebenskyl\", \"Pip_Ivan\", \"Petros\", \"Gutin_Tomnatik\"],\n",
        "    name=\"Height, m\",\n",
        "    dtype=float,\n",
        ")\n",
        "\n",
        "sort_index = mountains_height.sort_index()\n",
        "print(sort_index)"
      ],
      "metadata": {
        "colab": {
          "base_uri": "https://localhost:8080/"
        },
        "id": "gN3o-YEWQPaq",
        "outputId": "12a4b8af-5c6e-4a9b-9f8b-4badd158c823"
      },
      "execution_count": null,
      "outputs": [
        {
          "output_type": "stream",
          "name": "stdout",
          "text": [
            "Brebenskyl        2035.8\n",
            "Goverla           2061.0\n",
            "Gutin_Tomnatik    2016.4\n",
            "Petros            2022.5\n",
            "Pip_Ivan          2028.5\n",
            "Name: Height, m, dtype: float64\n"
          ]
        }
      ]
    },
    {
      "cell_type": "code",
      "source": [
        "# sort value\n",
        "\n",
        "mountains_height = pd.Series(\n",
        "    data=[2061, 2035.8, 2028.5, 2022.5, 2016.4],\n",
        "    index=[\"Goverla\", \"Brebenskyl\", \"Pip_Ivan\", \"Petros\", \"Gutin_Tomnatik\"],\n",
        "    name=\"Height, m\",\n",
        "    dtype=float,\n",
        ")\n",
        "\n",
        "mountains_height.sort_values(inplace=True, ascending=False)\n",
        "print(mountains_height)"
      ],
      "metadata": {
        "colab": {
          "base_uri": "https://localhost:8080/"
        },
        "id": "nb2Izsu_QgiM",
        "outputId": "566bdda0-95c3-4dd2-dc88-0a9d19cae9aa"
      },
      "execution_count": null,
      "outputs": [
        {
          "output_type": "stream",
          "name": "stdout",
          "text": [
            "Goverla           2061.0\n",
            "Brebenskyl        2035.8\n",
            "Pip_Ivan          2028.5\n",
            "Petros            2022.5\n",
            "Gutin_Tomnatik    2016.4\n",
            "Name: Height, m, dtype: float64\n"
          ]
        }
      ]
    },
    {
      "cell_type": "code",
      "source": [
        "# replacing NaN\n",
        "\n",
        "import pandas as pd\n",
        "\n",
        "mountains_height = pd.Series(\n",
        "    {\"Goverla\": 2061, \"Brebenskyl\": 2035.8, \"Pip_Ivan\": 2028.5},\n",
        "    index=[\"Goverla\", \"Brebenskyl\", \"Pip_Ivan\", \"Petros\", \"Gutin_Tomnatik\"],\n",
        "    name=\"Height, m\",\n",
        "    dtype=float,\n",
        ")\n",
        "\n",
        "print(mountains_height)\n",
        "\n",
        "mountains_height.fillna(0, inplace=True)\n",
        "\n",
        "print(mountains_height)"
      ],
      "metadata": {
        "colab": {
          "base_uri": "https://localhost:8080/"
        },
        "id": "u0jgvnmaQ_le",
        "outputId": "75fba6f7-8e01-42b9-f5d5-e7e9d5e6f29a"
      },
      "execution_count": null,
      "outputs": [
        {
          "output_type": "stream",
          "name": "stdout",
          "text": [
            "Goverla           2061.0\n",
            "Brebenskyl        2035.8\n",
            "Pip_Ivan          2028.5\n",
            "Petros               NaN\n",
            "Gutin_Tomnatik       NaN\n",
            "Name: Height, m, dtype: float64\n",
            "Goverla           2061.0\n",
            "Brebenskyl        2035.8\n",
            "Pip_Ivan          2028.5\n",
            "Petros               0.0\n",
            "Gutin_Tomnatik       0.0\n",
            "Name: Height, m, dtype: float64\n"
          ]
        }
      ]
    },
    {
      "cell_type": "markdown",
      "source": [
        "Create and load data into a DataFrame:\n",
        "\n",
        "A DataFrame is a two-dimensional labeled data structure with columns of potentially different types. It’s similar to a spreadsheet or SQL table, or a dictionary of Series objects. It is generally the most commonly used pandas object.\n",
        "\n",
        "Here’s a brief explanation and an example:\n",
        "\n",
        "Explanation: In Python, you can use the pandas library to create a DataFrame and load data into it. Data can be loaded from various sources such as a list, a dictionary, or a CSV file.\n",
        "\n",
        "Example: Here’s an example of creating a DataFrame from a dictionary:"
      ],
      "metadata": {
        "id": "KQe5NMjkKuxv"
      }
    },
    {
      "cell_type": "code",
      "source": [
        "import pandas as pd\n",
        "\n",
        "# Create a dictionary\n",
        "data = {\n",
        "    'Name': ['John', 'Anna', 'Peter'],\n",
        "    'Age': [28, 24, 22],\n",
        "}\n",
        "\n",
        "# Load data into a DataFrame\n",
        "df = pd.DataFrame(data)\n",
        "\n",
        "# Print the DataFrame\n",
        "print(df)\n"
      ],
      "metadata": {
        "colab": {
          "base_uri": "https://localhost:8080/"
        },
        "id": "Xe35ztIOK1Sb",
        "outputId": "b37bafd0-ae05-437e-85a3-4c013ff3006c"
      },
      "execution_count": null,
      "outputs": [
        {
          "output_type": "stream",
          "name": "stdout",
          "text": [
            "    Name  Age\n",
            "0   John   28\n",
            "1   Anna   24\n",
            "2  Peter   22\n"
          ]
        }
      ]
    },
    {
      "cell_type": "markdown",
      "source": [
        "DataFrame methods and attributes:\n",
        "\n",
        "1. head(): This function returns the first n rows for the DataFrame. By default, it returns the first 5 rows.\n",
        "\n",
        "Example:"
      ],
      "metadata": {
        "id": "H2ZMjl1uLUf8"
      }
    },
    {
      "cell_type": "code",
      "source": [
        "print(df.head())"
      ],
      "metadata": {
        "id": "jjX11ADELYAK"
      },
      "execution_count": null,
      "outputs": []
    },
    {
      "cell_type": "markdown",
      "source": [
        "2. tail(): This function returns the last n rows for the DataFrame. By default, it returns the last 5 rows.\n",
        "\n",
        "Example:"
      ],
      "metadata": {
        "id": "JpqZa4MRLZhh"
      }
    },
    {
      "cell_type": "code",
      "source": [
        "print(df.tail())"
      ],
      "metadata": {
        "id": "12m0fpuTLbV3"
      },
      "execution_count": null,
      "outputs": []
    },
    {
      "cell_type": "markdown",
      "source": [
        "3. shape: This attribute returns a tuple representing the dimensionality of the DataFrame. The first element of the tuple is the number of rows and the second element is the number of columns.\n",
        "\n",
        "Example:"
      ],
      "metadata": {
        "id": "q-TPGvFWLezM"
      }
    },
    {
      "cell_type": "code",
      "source": [
        "print(df.shape)"
      ],
      "metadata": {
        "id": "rPy_isiSLg0N"
      },
      "execution_count": null,
      "outputs": []
    },
    {
      "cell_type": "markdown",
      "source": [
        "4. info(): This method prints information about a DataFrame including the index dtype and columns, non-null values, and memory usage.\n",
        "\n",
        "Example:"
      ],
      "metadata": {
        "id": "zU3RdciuLimk"
      }
    },
    {
      "cell_type": "code",
      "source": [
        "print(df.info())"
      ],
      "metadata": {
        "id": "pHzsnavjLkYb"
      },
      "execution_count": null,
      "outputs": []
    },
    {
      "cell_type": "markdown",
      "source": [
        "5. describe(): This function generates descriptive statistics of a DataFrame. For numerical data, the result’s index will include count, mean, std, min, 25%, 50%, 75%, max. For object data (e.g. strings or timestamps), the result’s index will include count, unique, top, freq.\n",
        "\n",
        "Example:"
      ],
      "metadata": {
        "id": "iRvyipZuLmRz"
      }
    },
    {
      "cell_type": "code",
      "source": [
        "print(df.describe())"
      ],
      "metadata": {
        "id": "UI8E23zTLpXD"
      },
      "execution_count": null,
      "outputs": []
    },
    {
      "cell_type": "markdown",
      "source": [
        "6. columns: This attribute returns the column labels of the DataFrame.\n",
        "\n",
        "Example:"
      ],
      "metadata": {
        "id": "jeTpofIiLrV3"
      }
    },
    {
      "cell_type": "code",
      "source": [
        "print(df.columns)"
      ],
      "metadata": {
        "id": "at0QzknkLsry"
      },
      "execution_count": null,
      "outputs": []
    },
    {
      "cell_type": "markdown",
      "source": [
        "7. dtypes: This attribute returns the dtypes in the DataFrame. It returns a Series with the data type of each column.\n",
        "\n",
        "Example:"
      ],
      "metadata": {
        "id": "5bWide3jLukd"
      }
    },
    {
      "cell_type": "code",
      "source": [
        "print(df.dtypes)"
      ],
      "metadata": {
        "id": "mCym49kPLwaP"
      },
      "execution_count": null,
      "outputs": []
    },
    {
      "cell_type": "markdown",
      "source": [
        "DataFrame editing operations:"
      ],
      "metadata": {
        "id": "ywuZZv9UMVih"
      }
    },
    {
      "cell_type": "markdown",
      "source": [
        "1. Changing the Index: You can change the index of a DataFrame using the set_index method. This method sets the DataFrame index using existing columns.\n",
        "\n",
        "Example:"
      ],
      "metadata": {
        "id": "Ci1W9gbpMZQB"
      }
    },
    {
      "cell_type": "code",
      "source": [
        "# Set 'Name' as the index\n",
        "df.set_index('Name', inplace=True)\n",
        "print(df)"
      ],
      "metadata": {
        "colab": {
          "base_uri": "https://localhost:8080/"
        },
        "id": "UaUV5e-jMaAR",
        "outputId": "405ebf80-0835-4de1-fd7d-d8cc949d1bfb"
      },
      "execution_count": null,
      "outputs": [
        {
          "output_type": "stream",
          "name": "stdout",
          "text": [
            "       Age\n",
            "Name      \n",
            "John    28\n",
            "Anna    24\n",
            "Peter   22\n"
          ]
        }
      ]
    },
    {
      "cell_type": "markdown",
      "source": [
        "2. Changing Column Names: You can change the column names of a DataFrame by assigning a new list of column names to the columns attribute.\n",
        "\n",
        "Example:"
      ],
      "metadata": {
        "id": "WPNWw9AHMd5h"
      }
    },
    {
      "cell_type": "code",
      "source": [
        "# Change column names\n",
        "df.columns = ['New_Name', 'New_Age']\n",
        "print(df)"
      ],
      "metadata": {
        "id": "uYPl6910Mvsl"
      },
      "execution_count": null,
      "outputs": []
    },
    {
      "cell_type": "markdown",
      "source": [
        "3. Deleting Columns: You can delete columns from a DataFrame using the drop method. You need to specify the axis parameter as 1 or 'columns'.\n",
        "\n",
        "Example:"
      ],
      "metadata": {
        "id": "a1eUDS3WMxwB"
      }
    },
    {
      "cell_type": "code",
      "source": [
        "# Delete the 'New_Age' column\n",
        "df.drop('New_Age', axis=1, inplace=True)\n",
        "print(df)"
      ],
      "metadata": {
        "id": "6krcvW2GMz1M"
      },
      "execution_count": null,
      "outputs": []
    },
    {
      "cell_type": "markdown",
      "source": [
        "Remember, the inplace=True argument makes the change in the existing DataFrame. If you don’t use inplace=True, the methods will return a new DataFrame with the changes, and the original DataFrame will remain unchanged."
      ],
      "metadata": {
        "id": "hqJeZqsgM6_8"
      }
    },
    {
      "cell_type": "markdown",
      "source": [
        "How to access DataFrame columns:"
      ],
      "metadata": {
        "id": "SUxKccJmM8F0"
      }
    },
    {
      "cell_type": "markdown",
      "source": [
        "Accessing DataFrame Columns: You can access the columns of a DataFrame using the column labels. There are two main ways to do this:"
      ],
      "metadata": {
        "id": "8_ngrjEdNL-B"
      }
    },
    {
      "cell_type": "markdown",
      "source": [
        "Dictionary-like style: You can use the column label as a key, similar to how you access values in a dictionary.\n",
        "Example:"
      ],
      "metadata": {
        "id": "6nURQMKrNObH"
      }
    },
    {
      "cell_type": "code",
      "source": [
        "# Access the 'Name' column\n",
        "name_column = df['Name']\n",
        "print(name_column)"
      ],
      "metadata": {
        "id": "-SWz7cKXNQ00"
      },
      "execution_count": null,
      "outputs": []
    },
    {
      "cell_type": "markdown",
      "source": [
        "Attribute style: If the column label is a valid Python identifier, you can also use attribute-style accessing with dot notation. However, this method won’t work for column labels that contain spaces or special characters, or that conflict with DataFrame methods."
      ],
      "metadata": {
        "id": "Ynr-GxuXNSmZ"
      }
    },
    {
      "cell_type": "code",
      "source": [
        "# Access the 'Age' column\n",
        "age_column = df.Age\n",
        "print(age_column)"
      ],
      "metadata": {
        "id": "_OGCKx04NT6F"
      },
      "execution_count": null,
      "outputs": []
    },
    {
      "cell_type": "markdown",
      "source": [
        "In both cases, the result is a pandas Series object containing the data of the specified column."
      ],
      "metadata": {
        "id": "tmSOJV81NYKr"
      }
    },
    {
      "cell_type": "markdown",
      "source": [
        "How to work with missing data in a DataFrame:"
      ],
      "metadata": {
        "id": "MAAcITAmN8zo"
      }
    },
    {
      "cell_type": "markdown",
      "source": [
        "1. isnull(): This function is used to check and manage NULL values in a data frame. It returns a DataFrame of booleans showing whether each element in the DataFrame is an NA value."
      ],
      "metadata": {
        "id": "DuakCyR1N-On"
      }
    },
    {
      "cell_type": "code",
      "source": [
        "# Check for NULL values\n",
        "print(df.isnull())"
      ],
      "metadata": {
        "id": "8HeCYFwCN_8G"
      },
      "execution_count": null,
      "outputs": []
    },
    {
      "cell_type": "markdown",
      "source": [
        "2. dropna(): This function removes missing values. It removes all the rows that contain a missing value.\n",
        "\n",
        "Example:"
      ],
      "metadata": {
        "id": "dLqLjaRBOBcD"
      }
    },
    {
      "cell_type": "code",
      "source": [
        "# Remove rows with NULL values\n",
        "df_clean = df.dropna()\n",
        "print(df_clean)"
      ],
      "metadata": {
        "id": "Z18IKg-dOC5e"
      },
      "execution_count": null,
      "outputs": []
    },
    {
      "cell_type": "markdown",
      "source": [
        "3. fillna(): This function replaces the missing values with a specified value or method (such as 'mean', 'median', 'mode', 'ffill', 'bfill').\n",
        "\n",
        "Example:"
      ],
      "metadata": {
        "id": "vcKxCjlqOEy0"
      }
    },
    {
      "cell_type": "code",
      "source": [
        "# Replace NULL values with a specific value\n",
        "df_filled = df.fillna(0)\n",
        "print(df_filled)"
      ],
      "metadata": {
        "id": "vOPTcxabOH9I"
      },
      "execution_count": null,
      "outputs": []
    },
    {
      "cell_type": "markdown",
      "source": [
        "4. replace(): This function replaces a set of values with another set of values. It can be used to replace not only missing values but also other values in the DataFrame.\n",
        "\n",
        "Example:"
      ],
      "metadata": {
        "id": "I7uHZLH-OKGG"
      }
    },
    {
      "cell_type": "code",
      "source": [
        "# Replace specific values\n",
        "df_replaced = df.replace('Unknown', 'N/A')\n",
        "print(df_replaced)"
      ],
      "metadata": {
        "id": "W2wkhM4kOMdo"
      },
      "execution_count": null,
      "outputs": []
    },
    {
      "cell_type": "markdown",
      "source": [
        "Using “Chains” of Methods:\n",
        "\n",
        "In pandas, you can chain methods together to perform more complex data manipulations. This is often referred to as “method chaining”. Each method operates on the DataFrame and returns a new DataFrame, allowing the operations to be chained together in a single statement.\n",
        "\n",
        "Here’s an example:"
      ],
      "metadata": {
        "id": "rE2ddYQ2Olg2"
      }
    },
    {
      "cell_type": "code",
      "source": [
        "# Load data, drop missing values, and calculate the mean\n",
        "mean_value = df['column_name'].dropna().mean()\n",
        "print(mean_value)"
      ],
      "metadata": {
        "id": "SVJCFx5WOmQx"
      },
      "execution_count": null,
      "outputs": []
    },
    {
      "cell_type": "markdown",
      "source": [
        "In this example, df['column_name'] selects a column from the DataFrame, dropna() removes any rows with missing values in that column, and mean() calculates the mean of the remaining values. All of these operations are performed in a single line of code."
      ],
      "metadata": {
        "id": "VcYb0-slOo6V"
      }
    }
  ]
}